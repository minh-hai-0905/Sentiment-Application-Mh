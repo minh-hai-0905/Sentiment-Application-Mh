{
 "cells": [
  {
   "cell_type": "markdown",
   "id": "666474bf",
   "metadata": {},
   "source": [
    "# Cài đặt thư viện"
   ]
  },
  {
   "cell_type": "code",
   "execution_count": 22,
   "id": "856c1a1d",
   "metadata": {},
   "outputs": [
    {
     "name": "stderr",
     "output_type": "stream",
     "text": [
      "[nltk_data] Downloading package stopwords to\n",
      "[nltk_data]     /Users/mhai0905/nltk_data...\n",
      "[nltk_data]   Package stopwords is already up-to-date!\n",
      "[nltk_data] Downloading package wordnet to\n",
      "[nltk_data]     /Users/mhai0905/nltk_data...\n",
      "[nltk_data]   Package wordnet is already up-to-date!\n"
     ]
    }
   ],
   "source": [
    "import pandas as pd\n",
    "import numpy as np\n",
    "from numpy import array,asarray,zeros\n",
    "from bs4 import BeautifulSoup\n",
    "import re\n",
    "import nltk\n",
    "nltk.download('stopwords')\n",
    "nltk.download('wordnet')\n",
    "from nltk.corpus import stopwords\n",
    "from sklearn.feature_extraction.text import TfidfVectorizer\n",
    "from sklearn.model_selection import train_test_split\n",
    "from sklearn.svm import LinearSVC\n",
    "from sklearn import metrics\n",
    "from sklearn.metrics import classification_report,confusion_matrix, accuracy_score"
   ]
  },
  {
   "cell_type": "markdown",
   "id": "13d98c16",
   "metadata": {},
   "source": [
    "# Đọc dữ liệu"
   ]
  },
  {
   "cell_type": "code",
   "execution_count": 23,
   "id": "b269e8f8",
   "metadata": {},
   "outputs": [
    {
     "data": {
      "text/html": [
       "<div>\n",
       "<style scoped>\n",
       "    .dataframe tbody tr th:only-of-type {\n",
       "        vertical-align: middle;\n",
       "    }\n",
       "\n",
       "    .dataframe tbody tr th {\n",
       "        vertical-align: top;\n",
       "    }\n",
       "\n",
       "    .dataframe thead th {\n",
       "        text-align: right;\n",
       "    }\n",
       "</style>\n",
       "<table border=\"1\" class=\"dataframe\">\n",
       "  <thead>\n",
       "    <tr style=\"text-align: right;\">\n",
       "      <th></th>\n",
       "      <th>review</th>\n",
       "      <th>sentiment</th>\n",
       "    </tr>\n",
       "  </thead>\n",
       "  <tbody>\n",
       "    <tr>\n",
       "      <th>0</th>\n",
       "      <td>One of the other reviewers has mentioned that ...</td>\n",
       "      <td>positive</td>\n",
       "    </tr>\n",
       "    <tr>\n",
       "      <th>1</th>\n",
       "      <td>A wonderful little production. &lt;br /&gt;&lt;br /&gt;The...</td>\n",
       "      <td>positive</td>\n",
       "    </tr>\n",
       "    <tr>\n",
       "      <th>2</th>\n",
       "      <td>I thought this was a wonderful way to spend ti...</td>\n",
       "      <td>positive</td>\n",
       "    </tr>\n",
       "    <tr>\n",
       "      <th>3</th>\n",
       "      <td>Basically there's a family where a little boy ...</td>\n",
       "      <td>negative</td>\n",
       "    </tr>\n",
       "    <tr>\n",
       "      <th>4</th>\n",
       "      <td>Petter Mattei's \"Love in the Time of Money\" is...</td>\n",
       "      <td>positive</td>\n",
       "    </tr>\n",
       "  </tbody>\n",
       "</table>\n",
       "</div>"
      ],
      "text/plain": [
       "                                              review sentiment\n",
       "0  One of the other reviewers has mentioned that ...  positive\n",
       "1  A wonderful little production. <br /><br />The...  positive\n",
       "2  I thought this was a wonderful way to spend ti...  positive\n",
       "3  Basically there's a family where a little boy ...  negative\n",
       "4  Petter Mattei's \"Love in the Time of Money\" is...  positive"
      ]
     },
     "execution_count": 23,
     "metadata": {},
     "output_type": "execute_result"
    }
   ],
   "source": [
    "df = pd.read_csv(\"IMDB_Dataset.csv\")\n",
    "df.head()"
   ]
  },
  {
   "cell_type": "markdown",
   "id": "6c3ea76b",
   "metadata": {},
   "source": [
    "# Ví dụ về tiền xử lý văn bản cho một review"
   ]
  },
  {
   "cell_type": "markdown",
   "id": "bc33c9d7",
   "metadata": {},
   "source": [
    "#### Trước khi dự đoán mô hình ta tiến hành tiền xử lí dữ liệu. Để quá trình làm sạch dữ liệu diễn ra hiệu quả và quy mô với khối lượng dữ liệu lớn, em sẽ thử làm sạch dữ liệu ngẫu nhiên 1 câu trong tập dữ liệu."
   ]
  },
  {
   "cell_type": "code",
   "execution_count": 24,
   "id": "d84c312b",
   "metadata": {},
   "outputs": [
    {
     "data": {
      "text/plain": [
       "'First of all, let\\'s get a few things straight here: a) I AM an anime fan- always has been as a matter of fact (I used to watch Speed Racer all the time in Preschool). b) I DO like several B-Movies because they\\'re hilarious. c) I like the Godzilla movies- a lot.<br /><br />Moving on, when the movie first comes on, it seems like it\\'s going to be your usual B-movie, down to the crappy FX, but all a sudden- BOOM! the anime comes on! This is when the movie goes WWWAAAAAYYYYY downhill.<br /><br />The animation is VERY bad & cheap, even worse than what I remember from SPEED RACER, for crissakes! In fact, it\\'s so cheap, one of the few scenes from the movie I \"vividly\" remember is when a bunch of kids run out of a school... & it\\'s the same kids over & over again! The FX are terrible, too; the dinosaurs look worse than Godzilla. In addition, the transition to live action to animation is unorganized, the dialogue & voices(especially the English dub that I viewed) was horrid & I was begging my dad to take the tape out of the DVD/ VHS player; The only thing that kept me surviving was cracking out jokes & comments like the robots & Joel/Mike on MST3K (you pick the season). Honestly, this is the only way to barely enjoy this movie & survive it at the same time.<br /><br />Heck, I\\'m planning to show this to another fellow otaku pal of mine on Halloween for a B-Movie night. Because it\\'s stupid, pretty painful to watch & unintentionally hilarious at the same time, I\\'m giving this movie a 3/10, an improvement from the 0.5/10 I was originally going to give it.<br /><br />(According to my grading scale: 3/10 means Pretty much both boring & bad. As fun as counting to three unless you find a way to make fun of it, then it will become as fun as counting to 15.)'"
      ]
     },
     "execution_count": 24,
     "metadata": {},
     "output_type": "execute_result"
    }
   ],
   "source": [
    "example_review = df['review'].loc[23]\n",
    "example_review"
   ]
  },
  {
   "cell_type": "markdown",
   "id": "65583d64",
   "metadata": {},
   "source": [
    "### 1. Xóa content HTML"
   ]
  },
  {
   "cell_type": "code",
   "execution_count": 25,
   "id": "a09879d0",
   "metadata": {},
   "outputs": [
    {
     "data": {
      "text/plain": [
       "'First of all, let\\'s get a few things straight here: a) I AM an anime fan- always has been as a matter of fact (I used to watch Speed Racer all the time in Preschool). b) I DO like several B-Movies because they\\'re hilarious. c) I like the Godzilla movies- a lot.Moving on, when the movie first comes on, it seems like it\\'s going to be your usual B-movie, down to the crappy FX, but all a sudden- BOOM! the anime comes on! This is when the movie goes WWWAAAAAYYYYY downhill.The animation is VERY bad & cheap, even worse than what I remember from SPEED RACER, for crissakes! In fact, it\\'s so cheap, one of the few scenes from the movie I \"vividly\" remember is when a bunch of kids run out of a school... & it\\'s the same kids over & over again! The FX are terrible, too; the dinosaurs look worse than Godzilla. In addition, the transition to live action to animation is unorganized, the dialogue & voices(especially the English dub that I viewed) was horrid & I was begging my dad to take the tape out of the DVD/ VHS player; The only thing that kept me surviving was cracking out jokes & comments like the robots & Joel/Mike on MST3K (you pick the season). Honestly, this is the only way to barely enjoy this movie & survive it at the same time.Heck, I\\'m planning to show this to another fellow otaku pal of mine on Halloween for a B-Movie night. Because it\\'s stupid, pretty painful to watch & unintentionally hilarious at the same time, I\\'m giving this movie a 3/10, an improvement from the 0.5/10 I was originally going to give it.(According to my grading scale: 3/10 means Pretty much both boring & bad. As fun as counting to three unless you find a way to make fun of it, then it will become as fun as counting to 15.)'"
      ]
     },
     "execution_count": 25,
     "metadata": {},
     "output_type": "execute_result"
    }
   ],
   "source": [
    "soup = BeautifulSoup(example_review, \"html.parser\")\n",
    "example_review = soup.get_text()\n",
    "example_review"
   ]
  },
  {
   "cell_type": "markdown",
   "id": "19a385fd",
   "metadata": {},
   "source": [
    "### 2. Sử dụng Biểu thức chính quy để xóa mọi thứ"
   ]
  },
  {
   "cell_type": "code",
   "execution_count": 26,
   "id": "650a4bb4",
   "metadata": {},
   "outputs": [
    {
     "data": {
      "text/plain": [
       "'First of all  let s get a few things straight here  a  I AM an anime fan  always has been as a matter of fact  I used to watch Speed Racer all the time in Preschool   b  I DO like several B Movies because they re hilarious  c  I like the Godzilla movies  a lot Moving on  when the movie first comes on  it seems like it s going to be your usual B movie  down to the crappy FX  but all a sudden  BOOM  the anime comes on  This is when the movie goes WWWAAAAAYYYYY downhill The animation is VERY bad   cheap  even worse than what I remember from SPEED RACER  for crissakes  In fact  it s so cheap  one of the few scenes from the movie I  vividly  remember is when a bunch of kids run out of a school      it s the same kids over   over again  The FX are terrible  too  the dinosaurs look worse than Godzilla  In addition  the transition to live action to animation is unorganized  the dialogue   voices especially the English dub that I viewed  was horrid   I was begging my dad to take the tape out of the DVD  VHS player  The only thing that kept me surviving was cracking out jokes   comments like the robots   Joel Mike on MST K  you pick the season   Honestly  this is the only way to barely enjoy this movie   survive it at the same time Heck  I m planning to show this to another fellow otaku pal of mine on Halloween for a B Movie night  Because it s stupid  pretty painful to watch   unintentionally hilarious at the same time  I m giving this movie a       an improvement from the        I was originally going to give it  According to my grading scale       means Pretty much both boring   bad  As fun as counting to three unless you find a way to make fun of it  then it will become as fun as counting to     '"
      ]
     },
     "execution_count": 26,
     "metadata": {},
     "output_type": "execute_result"
    }
   ],
   "source": [
    "example_review = re.sub('\\[[^]]*\\]', ' ',example_review)\n",
    "example_review = re.sub('[^a-zA-Z]', ' ',example_review)\n",
    "example_review"
   ]
  },
  {
   "cell_type": "markdown",
   "id": "37d7ad99",
   "metadata": {},
   "source": [
    "### 3. Chuyển qua từ thường(LowerCase)"
   ]
  },
  {
   "cell_type": "code",
   "execution_count": 27,
   "id": "b6670ec1",
   "metadata": {},
   "outputs": [
    {
     "data": {
      "text/plain": [
       "'first of all  let s get a few things straight here  a  i am an anime fan  always has been as a matter of fact  i used to watch speed racer all the time in preschool   b  i do like several b movies because they re hilarious  c  i like the godzilla movies  a lot moving on  when the movie first comes on  it seems like it s going to be your usual b movie  down to the crappy fx  but all a sudden  boom  the anime comes on  this is when the movie goes wwwaaaaayyyyy downhill the animation is very bad   cheap  even worse than what i remember from speed racer  for crissakes  in fact  it s so cheap  one of the few scenes from the movie i  vividly  remember is when a bunch of kids run out of a school      it s the same kids over   over again  the fx are terrible  too  the dinosaurs look worse than godzilla  in addition  the transition to live action to animation is unorganized  the dialogue   voices especially the english dub that i viewed  was horrid   i was begging my dad to take the tape out of the dvd  vhs player  the only thing that kept me surviving was cracking out jokes   comments like the robots   joel mike on mst k  you pick the season   honestly  this is the only way to barely enjoy this movie   survive it at the same time heck  i m planning to show this to another fellow otaku pal of mine on halloween for a b movie night  because it s stupid  pretty painful to watch   unintentionally hilarious at the same time  i m giving this movie a       an improvement from the        i was originally going to give it  according to my grading scale       means pretty much both boring   bad  as fun as counting to three unless you find a way to make fun of it  then it will become as fun as counting to     '"
      ]
     },
     "execution_count": 27,
     "metadata": {},
     "output_type": "execute_result"
    }
   ],
   "source": [
    "example_review = example_review.lower()\n",
    "example_review"
   ]
  },
  {
   "cell_type": "markdown",
   "id": "ce967241",
   "metadata": {},
   "source": [
    "### 4. Tách từ (split)"
   ]
  },
  {
   "cell_type": "code",
   "execution_count": 28,
   "id": "38c9b851",
   "metadata": {},
   "outputs": [
    {
     "data": {
      "text/plain": [
       "['first',\n",
       " 'of',\n",
       " 'all',\n",
       " 'let',\n",
       " 's',\n",
       " 'get',\n",
       " 'a',\n",
       " 'few',\n",
       " 'things',\n",
       " 'straight',\n",
       " 'here',\n",
       " 'a',\n",
       " 'i',\n",
       " 'am',\n",
       " 'an',\n",
       " 'anime',\n",
       " 'fan',\n",
       " 'always',\n",
       " 'has',\n",
       " 'been',\n",
       " 'as',\n",
       " 'a',\n",
       " 'matter',\n",
       " 'of',\n",
       " 'fact',\n",
       " 'i',\n",
       " 'used',\n",
       " 'to',\n",
       " 'watch',\n",
       " 'speed',\n",
       " 'racer',\n",
       " 'all',\n",
       " 'the',\n",
       " 'time',\n",
       " 'in',\n",
       " 'preschool',\n",
       " 'b',\n",
       " 'i',\n",
       " 'do',\n",
       " 'like',\n",
       " 'several',\n",
       " 'b',\n",
       " 'movies',\n",
       " 'because',\n",
       " 'they',\n",
       " 're',\n",
       " 'hilarious',\n",
       " 'c',\n",
       " 'i',\n",
       " 'like',\n",
       " 'the',\n",
       " 'godzilla',\n",
       " 'movies',\n",
       " 'a',\n",
       " 'lot',\n",
       " 'moving',\n",
       " 'on',\n",
       " 'when',\n",
       " 'the',\n",
       " 'movie',\n",
       " 'first',\n",
       " 'comes',\n",
       " 'on',\n",
       " 'it',\n",
       " 'seems',\n",
       " 'like',\n",
       " 'it',\n",
       " 's',\n",
       " 'going',\n",
       " 'to',\n",
       " 'be',\n",
       " 'your',\n",
       " 'usual',\n",
       " 'b',\n",
       " 'movie',\n",
       " 'down',\n",
       " 'to',\n",
       " 'the',\n",
       " 'crappy',\n",
       " 'fx',\n",
       " 'but',\n",
       " 'all',\n",
       " 'a',\n",
       " 'sudden',\n",
       " 'boom',\n",
       " 'the',\n",
       " 'anime',\n",
       " 'comes',\n",
       " 'on',\n",
       " 'this',\n",
       " 'is',\n",
       " 'when',\n",
       " 'the',\n",
       " 'movie',\n",
       " 'goes',\n",
       " 'wwwaaaaayyyyy',\n",
       " 'downhill',\n",
       " 'the',\n",
       " 'animation',\n",
       " 'is',\n",
       " 'very',\n",
       " 'bad',\n",
       " 'cheap',\n",
       " 'even',\n",
       " 'worse',\n",
       " 'than',\n",
       " 'what',\n",
       " 'i',\n",
       " 'remember',\n",
       " 'from',\n",
       " 'speed',\n",
       " 'racer',\n",
       " 'for',\n",
       " 'crissakes',\n",
       " 'in',\n",
       " 'fact',\n",
       " 'it',\n",
       " 's',\n",
       " 'so',\n",
       " 'cheap',\n",
       " 'one',\n",
       " 'of',\n",
       " 'the',\n",
       " 'few',\n",
       " 'scenes',\n",
       " 'from',\n",
       " 'the',\n",
       " 'movie',\n",
       " 'i',\n",
       " 'vividly',\n",
       " 'remember',\n",
       " 'is',\n",
       " 'when',\n",
       " 'a',\n",
       " 'bunch',\n",
       " 'of',\n",
       " 'kids',\n",
       " 'run',\n",
       " 'out',\n",
       " 'of',\n",
       " 'a',\n",
       " 'school',\n",
       " 'it',\n",
       " 's',\n",
       " 'the',\n",
       " 'same',\n",
       " 'kids',\n",
       " 'over',\n",
       " 'over',\n",
       " 'again',\n",
       " 'the',\n",
       " 'fx',\n",
       " 'are',\n",
       " 'terrible',\n",
       " 'too',\n",
       " 'the',\n",
       " 'dinosaurs',\n",
       " 'look',\n",
       " 'worse',\n",
       " 'than',\n",
       " 'godzilla',\n",
       " 'in',\n",
       " 'addition',\n",
       " 'the',\n",
       " 'transition',\n",
       " 'to',\n",
       " 'live',\n",
       " 'action',\n",
       " 'to',\n",
       " 'animation',\n",
       " 'is',\n",
       " 'unorganized',\n",
       " 'the',\n",
       " 'dialogue',\n",
       " 'voices',\n",
       " 'especially',\n",
       " 'the',\n",
       " 'english',\n",
       " 'dub',\n",
       " 'that',\n",
       " 'i',\n",
       " 'viewed',\n",
       " 'was',\n",
       " 'horrid',\n",
       " 'i',\n",
       " 'was',\n",
       " 'begging',\n",
       " 'my',\n",
       " 'dad',\n",
       " 'to',\n",
       " 'take',\n",
       " 'the',\n",
       " 'tape',\n",
       " 'out',\n",
       " 'of',\n",
       " 'the',\n",
       " 'dvd',\n",
       " 'vhs',\n",
       " 'player',\n",
       " 'the',\n",
       " 'only',\n",
       " 'thing',\n",
       " 'that',\n",
       " 'kept',\n",
       " 'me',\n",
       " 'surviving',\n",
       " 'was',\n",
       " 'cracking',\n",
       " 'out',\n",
       " 'jokes',\n",
       " 'comments',\n",
       " 'like',\n",
       " 'the',\n",
       " 'robots',\n",
       " 'joel',\n",
       " 'mike',\n",
       " 'on',\n",
       " 'mst',\n",
       " 'k',\n",
       " 'you',\n",
       " 'pick',\n",
       " 'the',\n",
       " 'season',\n",
       " 'honestly',\n",
       " 'this',\n",
       " 'is',\n",
       " 'the',\n",
       " 'only',\n",
       " 'way',\n",
       " 'to',\n",
       " 'barely',\n",
       " 'enjoy',\n",
       " 'this',\n",
       " 'movie',\n",
       " 'survive',\n",
       " 'it',\n",
       " 'at',\n",
       " 'the',\n",
       " 'same',\n",
       " 'time',\n",
       " 'heck',\n",
       " 'i',\n",
       " 'm',\n",
       " 'planning',\n",
       " 'to',\n",
       " 'show',\n",
       " 'this',\n",
       " 'to',\n",
       " 'another',\n",
       " 'fellow',\n",
       " 'otaku',\n",
       " 'pal',\n",
       " 'of',\n",
       " 'mine',\n",
       " 'on',\n",
       " 'halloween',\n",
       " 'for',\n",
       " 'a',\n",
       " 'b',\n",
       " 'movie',\n",
       " 'night',\n",
       " 'because',\n",
       " 'it',\n",
       " 's',\n",
       " 'stupid',\n",
       " 'pretty',\n",
       " 'painful',\n",
       " 'to',\n",
       " 'watch',\n",
       " 'unintentionally',\n",
       " 'hilarious',\n",
       " 'at',\n",
       " 'the',\n",
       " 'same',\n",
       " 'time',\n",
       " 'i',\n",
       " 'm',\n",
       " 'giving',\n",
       " 'this',\n",
       " 'movie',\n",
       " 'a',\n",
       " 'an',\n",
       " 'improvement',\n",
       " 'from',\n",
       " 'the',\n",
       " 'i',\n",
       " 'was',\n",
       " 'originally',\n",
       " 'going',\n",
       " 'to',\n",
       " 'give',\n",
       " 'it',\n",
       " 'according',\n",
       " 'to',\n",
       " 'my',\n",
       " 'grading',\n",
       " 'scale',\n",
       " 'means',\n",
       " 'pretty',\n",
       " 'much',\n",
       " 'both',\n",
       " 'boring',\n",
       " 'bad',\n",
       " 'as',\n",
       " 'fun',\n",
       " 'as',\n",
       " 'counting',\n",
       " 'to',\n",
       " 'three',\n",
       " 'unless',\n",
       " 'you',\n",
       " 'find',\n",
       " 'a',\n",
       " 'way',\n",
       " 'to',\n",
       " 'make',\n",
       " 'fun',\n",
       " 'of',\n",
       " 'it',\n",
       " 'then',\n",
       " 'it',\n",
       " 'will',\n",
       " 'become',\n",
       " 'as',\n",
       " 'fun',\n",
       " 'as',\n",
       " 'counting',\n",
       " 'to']"
      ]
     },
     "execution_count": 28,
     "metadata": {},
     "output_type": "execute_result"
    }
   ],
   "source": [
    "example_review = example_review.split()\n",
    "example_review"
   ]
  },
  {
   "cell_type": "markdown",
   "id": "dae292e9",
   "metadata": {},
   "source": [
    "### 5. Xử lí từ dừng(stopword)"
   ]
  },
  {
   "cell_type": "code",
   "execution_count": 29,
   "id": "b7651dfe",
   "metadata": {},
   "outputs": [
    {
     "data": {
      "text/plain": [
       "['first',\n",
       " 'let',\n",
       " 'get',\n",
       " 'things',\n",
       " 'straight',\n",
       " 'anime',\n",
       " 'fan',\n",
       " 'always',\n",
       " 'matter',\n",
       " 'fact',\n",
       " 'used',\n",
       " 'watch',\n",
       " 'speed',\n",
       " 'racer',\n",
       " 'time',\n",
       " 'preschool',\n",
       " 'b',\n",
       " 'like',\n",
       " 'several',\n",
       " 'b',\n",
       " 'movies',\n",
       " 'hilarious',\n",
       " 'c',\n",
       " 'like',\n",
       " 'godzilla',\n",
       " 'movies',\n",
       " 'lot',\n",
       " 'moving',\n",
       " 'movie',\n",
       " 'first',\n",
       " 'comes',\n",
       " 'seems',\n",
       " 'like',\n",
       " 'going',\n",
       " 'usual',\n",
       " 'b',\n",
       " 'movie',\n",
       " 'crappy',\n",
       " 'fx',\n",
       " 'sudden',\n",
       " 'boom',\n",
       " 'anime',\n",
       " 'comes',\n",
       " 'movie',\n",
       " 'goes',\n",
       " 'wwwaaaaayyyyy',\n",
       " 'downhill',\n",
       " 'animation',\n",
       " 'bad',\n",
       " 'cheap',\n",
       " 'even',\n",
       " 'worse',\n",
       " 'remember',\n",
       " 'speed',\n",
       " 'racer',\n",
       " 'crissakes',\n",
       " 'fact',\n",
       " 'cheap',\n",
       " 'one',\n",
       " 'scenes',\n",
       " 'movie',\n",
       " 'vividly',\n",
       " 'remember',\n",
       " 'bunch',\n",
       " 'kids',\n",
       " 'run',\n",
       " 'school',\n",
       " 'kids',\n",
       " 'fx',\n",
       " 'terrible',\n",
       " 'dinosaurs',\n",
       " 'look',\n",
       " 'worse',\n",
       " 'godzilla',\n",
       " 'addition',\n",
       " 'transition',\n",
       " 'live',\n",
       " 'action',\n",
       " 'animation',\n",
       " 'unorganized',\n",
       " 'dialogue',\n",
       " 'voices',\n",
       " 'especially',\n",
       " 'english',\n",
       " 'dub',\n",
       " 'viewed',\n",
       " 'horrid',\n",
       " 'begging',\n",
       " 'dad',\n",
       " 'take',\n",
       " 'tape',\n",
       " 'dvd',\n",
       " 'vhs',\n",
       " 'player',\n",
       " 'thing',\n",
       " 'kept',\n",
       " 'surviving',\n",
       " 'cracking',\n",
       " 'jokes',\n",
       " 'comments',\n",
       " 'like',\n",
       " 'robots',\n",
       " 'joel',\n",
       " 'mike',\n",
       " 'mst',\n",
       " 'k',\n",
       " 'pick',\n",
       " 'season',\n",
       " 'honestly',\n",
       " 'way',\n",
       " 'barely',\n",
       " 'enjoy',\n",
       " 'movie',\n",
       " 'survive',\n",
       " 'time',\n",
       " 'heck',\n",
       " 'planning',\n",
       " 'show',\n",
       " 'another',\n",
       " 'fellow',\n",
       " 'otaku',\n",
       " 'pal',\n",
       " 'mine',\n",
       " 'halloween',\n",
       " 'b',\n",
       " 'movie',\n",
       " 'night',\n",
       " 'stupid',\n",
       " 'pretty',\n",
       " 'painful',\n",
       " 'watch',\n",
       " 'unintentionally',\n",
       " 'hilarious',\n",
       " 'time',\n",
       " 'giving',\n",
       " 'movie',\n",
       " 'improvement',\n",
       " 'originally',\n",
       " 'going',\n",
       " 'give',\n",
       " 'according',\n",
       " 'grading',\n",
       " 'scale',\n",
       " 'means',\n",
       " 'pretty',\n",
       " 'much',\n",
       " 'boring',\n",
       " 'bad',\n",
       " 'fun',\n",
       " 'counting',\n",
       " 'three',\n",
       " 'unless',\n",
       " 'find',\n",
       " 'way',\n",
       " 'make',\n",
       " 'fun',\n",
       " 'become',\n",
       " 'fun',\n",
       " 'counting']"
      ]
     },
     "execution_count": 29,
     "metadata": {},
     "output_type": "execute_result"
    }
   ],
   "source": [
    "example_review = [word for word in example_review if not word in set(stopwords.words('english'))]\n",
    "example_review"
   ]
  },
  {
   "cell_type": "markdown",
   "id": "959bf98b",
   "metadata": {},
   "source": [
    "### 6. Nối lại các từ(join)"
   ]
  },
  {
   "cell_type": "code",
   "execution_count": 30,
   "id": "b8552887",
   "metadata": {},
   "outputs": [
    {
     "data": {
      "text/plain": [
       "'first let get things straight anime fan always matter fact used watch speed racer time preschool b like several b movies hilarious c like godzilla movies lot moving movie first comes seems like going usual b movie crappy fx sudden boom anime comes movie goes wwwaaaaayyyyy downhill animation bad cheap even worse remember speed racer crissakes fact cheap one scenes movie vividly remember bunch kids run school kids fx terrible dinosaurs look worse godzilla addition transition live action animation unorganized dialogue voices especially english dub viewed horrid begging dad take tape dvd vhs player thing kept surviving cracking jokes comments like robots joel mike mst k pick season honestly way barely enjoy movie survive time heck planning show another fellow otaku pal mine halloween b movie night stupid pretty painful watch unintentionally hilarious time giving movie improvement originally going give according grading scale means pretty much boring bad fun counting three unless find way make fun become fun counting'"
      ]
     },
     "execution_count": 30,
     "metadata": {},
     "output_type": "execute_result"
    }
   ],
   "source": [
    "example_review = ' '.join(example_review)\n",
    "example_review"
   ]
  },
  {
   "cell_type": "markdown",
   "id": "dfd72f0c",
   "metadata": {},
   "source": [
    "### 7. Vector hóa văn bản: TfidfVectorizer"
   ]
  },
  {
   "cell_type": "code",
   "execution_count": 31,
   "id": "f436a9a5",
   "metadata": {},
   "outputs": [],
   "source": [
    "imdb = []\n",
    "imdb.append(example_review)"
   ]
  },
  {
   "cell_type": "code",
   "execution_count": 32,
   "id": "6de80227",
   "metadata": {},
   "outputs": [
    {
     "data": {
      "text/plain": [
       "array([[0.06189845, 0.06189845, 0.06189845, 0.06189845, 0.12379689,\n",
       "        0.12379689, 0.06189845, 0.12379689, 0.06189845, 0.06189845,\n",
       "        0.06189845, 0.06189845, 0.06189845, 0.06189845, 0.12379689,\n",
       "        0.12379689, 0.06189845, 0.12379689, 0.06189845, 0.06189845,\n",
       "        0.06189845, 0.06189845, 0.06189845, 0.06189845, 0.06189845,\n",
       "        0.06189845, 0.06189845, 0.06189845, 0.06189845, 0.06189845,\n",
       "        0.06189845, 0.12379689, 0.06189845, 0.06189845, 0.06189845,\n",
       "        0.12379689, 0.18569534, 0.12379689, 0.06189845, 0.06189845,\n",
       "        0.06189845, 0.12379689, 0.06189845, 0.12379689, 0.06189845,\n",
       "        0.06189845, 0.06189845, 0.12379689, 0.06189845, 0.06189845,\n",
       "        0.06189845, 0.06189845, 0.06189845, 0.06189845, 0.12379689,\n",
       "        0.06189845, 0.24759378, 0.06189845, 0.06189845, 0.06189845,\n",
       "        0.06189845, 0.06189845, 0.06189845, 0.06189845, 0.06189845,\n",
       "        0.43328912, 0.12379689, 0.06189845, 0.06189845, 0.06189845,\n",
       "        0.06189845, 0.06189845, 0.06189845, 0.06189845, 0.06189845,\n",
       "        0.06189845, 0.06189845, 0.06189845, 0.06189845, 0.06189845,\n",
       "        0.12379689, 0.12379689, 0.12379689, 0.06189845, 0.06189845,\n",
       "        0.06189845, 0.06189845, 0.06189845, 0.06189845, 0.06189845,\n",
       "        0.06189845, 0.06189845, 0.12379689, 0.06189845, 0.06189845,\n",
       "        0.06189845, 0.06189845, 0.06189845, 0.06189845, 0.06189845,\n",
       "        0.06189845, 0.06189845, 0.06189845, 0.06189845, 0.18569534,\n",
       "        0.06189845, 0.06189845, 0.06189845, 0.06189845, 0.06189845,\n",
       "        0.06189845, 0.06189845, 0.06189845, 0.06189845, 0.06189845,\n",
       "        0.12379689, 0.12379689, 0.12379689, 0.06189845]])"
      ]
     },
     "execution_count": 32,
     "metadata": {},
     "output_type": "execute_result"
    }
   ],
   "source": [
    "tfidf_vecto = TfidfVectorizer()\n",
    "review_tfidf_vecto = tfidf_vecto.fit_transform(imdb)\n",
    "review_tfidf_vecto.toarray()"
   ]
  },
  {
   "cell_type": "markdown",
   "id": "a3e337c2",
   "metadata": {},
   "source": [
    " ### Vectơ hóa bằng kỹ thuật TF-IDF - trước khi tiền xử lý"
   ]
  },
  {
   "cell_type": "code",
   "execution_count": 36,
   "id": "fa0cf799",
   "metadata": {},
   "outputs": [
    {
     "name": "stdout",
     "output_type": "stream",
     "text": [
      "TfIdf_cv: (50000, 1689777)\n"
     ]
    }
   ],
   "source": [
    "tfidf_vecto = TfidfVectorizer(min_df=2, max_df=0.5, ngram_range=(1,3))\n",
    "tfidf_cv = tfidf_vecto.fit_transform(df['review'])\n",
    "print('TfIdf_cv:',tfidf_cv.shape)"
   ]
  },
  {
   "cell_type": "markdown",
   "id": "c3a42715",
   "metadata": {},
   "source": [
    "# Tiền xử lý cho toàn bộ tập dữ liệu 50K"
   ]
  },
  {
   "cell_type": "code",
   "execution_count": 37,
   "id": "b1bec279",
   "metadata": {},
   "outputs": [
    {
     "name": "stderr",
     "output_type": "stream",
     "text": [
      "/Users/mhai0905/opt/anaconda3/lib/python3.9/site-packages/bs4/__init__.py:435: MarkupResemblesLocatorWarning: The input looks more like a filename than markup. You may want to open this file and pass the filehandle into Beautiful Soup.\n",
      "  warnings.warn(\n"
     ]
    }
   ],
   "source": [
    "df['review'] = df['review'].apply(lambda x: BeautifulSoup(x, \"html.parser\").get_text())\n",
    "df['review'] = df['review'].apply(lambda x: re.sub('\\[[^]]*\\]', ' ', x))\n",
    "df['review'] = df['review'].apply(lambda x: re.sub('[^a-zA-Z]', ' ', x))\n",
    "df['review'] = df['review'].apply(lambda x: x.lower())\n",
    "df['review'] = df['review'].apply(lambda x: x.split())\n",
    "df['review'] = df['review'].apply(lambda x: [word for word in x if word not in set(stopwords.words('english'))])\n",
    "df['review'] = df['review'].apply(lambda x: ' '.join(x))"
   ]
  },
  {
   "cell_type": "markdown",
   "id": "188e05cd",
   "metadata": {},
   "source": [
    "# Chia tập dữ liệu"
   ]
  },
  {
   "cell_type": "code",
   "execution_count": 39,
   "id": "f37c03ba",
   "metadata": {},
   "outputs": [],
   "source": [
    "x_train, x_test, y_train, y_test= train_test_split(df['review'], df['sentiment'], test_size=0.3, random_state=2)"
   ]
  },
  {
   "cell_type": "markdown",
   "id": "b3511b0a",
   "metadata": {},
   "source": [
    "### Vectơ hóa bằng kỹ thuật TF-IDF - sau khi tiền xử lý"
   ]
  },
  {
   "cell_type": "code",
   "execution_count": 41,
   "id": "265f11f3",
   "metadata": {},
   "outputs": [
    {
     "name": "stdout",
     "output_type": "stream",
     "text": [
      "TfIdf_cv_train: (35000, 600833)\n",
      "TfIdf_cv_test: (15000, 600833)\n"
     ]
    }
   ],
   "source": [
    "# Vectơ hóa bằng kỹ thuật TF-IDF - sau khi tiền xử lý\n",
    "tfidf_vecto = TfidfVectorizer(min_df=2, max_df=0.5, ngram_range=(1,3))\n",
    "tfidf_vecto_train = tfidf_vecto.fit_transform(x_train)\n",
    "tfidf_vecto_test = tfidf_vecto.transform(x_test)\n",
    "print('TfIdf_cv_train:',tfidf_vecto_train.shape)\n",
    "print('TfIdf_cv_test:',tfidf_vecto_test.shape)"
   ]
  },
  {
   "cell_type": "markdown",
   "id": "acd39ee2",
   "metadata": {},
   "source": [
    "# Huấn luyện mô hình"
   ]
  },
  {
   "cell_type": "code",
   "execution_count": 42,
   "id": "32caa5f3",
   "metadata": {},
   "outputs": [],
   "source": [
    "LSVC = LinearSVC()\n",
    "LSVC.fit(tfidf_vecto_train, y_train)\n",
    "du_doan = LSVC.predict(tfidf_vecto_test)"
   ]
  },
  {
   "cell_type": "code",
   "execution_count": 43,
   "id": "5bff2471",
   "metadata": {},
   "outputs": [
    {
     "name": "stdout",
     "output_type": "stream",
     "text": [
      "Classification report of Linear SVC: \n",
      "               precision    recall  f1-score   support\n",
      "\n",
      "    Positive       0.92      0.90      0.91      7499\n",
      "    Negative       0.90      0.92      0.91      7501\n",
      "\n",
      "    accuracy                           0.91     15000\n",
      "   macro avg       0.91      0.91      0.91     15000\n",
      "weighted avg       0.91      0.91      0.91     15000\n",
      "\n",
      "Confusion Matrix of Linear SVC: \n",
      " [[6751  748]\n",
      " [ 567 6934]]\n",
      "Độ chính xác của việc sử dụng TF-IDF fit với mô hình Linear SVC: 91.23%\n"
     ]
    }
   ],
   "source": [
    "print(\"Classification report of Linear SVC: \\n\",classification_report(y_test,du_doan, target_names = ['Positive','Negative']))\n",
    "print(\"Confusion Matrix of Linear SVC: \\n\",confusion_matrix(y_test,du_doan))\n",
    "dochinhxac = metrics.accuracy_score(y_test,du_doan)\n",
    "print(\"Độ chính xác của việc sử dụng TF-IDF fit với mô hình Linear SVC: \" +str('{:04.2f}'.format(dochinhxac *100)) + \"%\")"
   ]
  },
  {
   "cell_type": "markdown",
   "id": "d9dc9e46",
   "metadata": {},
   "source": [
    "## Sau khi sử dụng mô hình LinearSVC để huấn luyện, ta được độ chính xác của việc sử dụng TF-IDF fit với mô hình Linear SVC là : 91.23%"
   ]
  },
  {
   "cell_type": "markdown",
   "id": "b8a5f985",
   "metadata": {},
   "source": [
    "# Build application: Predict sentiment"
   ]
  },
  {
   "cell_type": "code",
   "execution_count": 65,
   "id": "20734427",
   "metadata": {},
   "outputs": [],
   "source": [
    "from sklearn.pipeline import Pipeline\n",
    "clf = Pipeline([('tfidf', TfidfVectorizer()), ('clf', LinearSVC(C=0.2, random_state=42))])\n",
    "clf.fit(x_train, y_train)\n",
    "y_pred = clf.predict(x_test)"
   ]
  },
  {
   "cell_type": "code",
   "execution_count": 66,
   "id": "b37b591e",
   "metadata": {},
   "outputs": [
    {
     "data": {
      "text/plain": [
       "array(['positive'], dtype=object)"
      ]
     },
     "execution_count": 66,
     "metadata": {},
     "output_type": "execute_result"
    }
   ],
   "source": [
    "clf.predict(['Wow, this is amazing lesson'])"
   ]
  },
  {
   "cell_type": "code",
   "execution_count": 67,
   "id": "6fbd4447",
   "metadata": {},
   "outputs": [],
   "source": [
    "import pickle\n",
    "pickle.dump(clf, open('sentiment_analysis_mh.pkl', 'wb'))"
   ]
  },
  {
   "cell_type": "code",
   "execution_count": null,
   "id": "02431e57",
   "metadata": {},
   "outputs": [],
   "source": []
  }
 ],
 "metadata": {
  "kernelspec": {
   "display_name": "Python 3 (ipykernel)",
   "language": "python",
   "name": "python3"
  },
  "language_info": {
   "codemirror_mode": {
    "name": "ipython",
    "version": 3
   },
   "file_extension": ".py",
   "mimetype": "text/x-python",
   "name": "python",
   "nbconvert_exporter": "python",
   "pygments_lexer": "ipython3",
   "version": "3.9.13"
  }
 },
 "nbformat": 4,
 "nbformat_minor": 5
}
